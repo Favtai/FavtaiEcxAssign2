{
  "cells": [
    {
      "cell_type": "markdown",
      "metadata": {
        "id": "hNeBtncoJmKv"
      },
      "source": [
        "# **FAVOUR TAIWO ECX Assignment 2**"
      ]
    },
    {
      "cell_type": "markdown",
      "metadata": {
        "id": "DT8RXN-6zxly"
      },
      "source": [
        "## PYTOUCH"
      ]
    },
    {
      "cell_type": "code",
      "execution_count": 44,
      "metadata": {
        "id": "QNuU3RVPR75a"
      },
      "outputs": [],
      "source": [
        "# Define paths for data\n",
        "data_dir = '../data/Building Types' # Ensure the name of the folder is set to this.\n",
        "class_names = ['Bungalow', 'Highrise', 'Storey-Building']"
      ]
    },
    {
      "cell_type": "code",
      "execution_count": null,
      "metadata": {
        "id": "9q6gbH_zR9nI"
      },
      "outputs": [],
      "source": []
    },
    {
      "cell_type": "code",
      "execution_count": 45,
      "metadata": {
        "collapsed": true,
        "id": "YpLJEIPVREOy"
      },
      "outputs": [],
      "source": [
        "\n",
        "import torch\n",
        "import torch.nn as nn\n",
        "import torch.optim as optim\n",
        "from torchvision import datasets, transforms\n",
        "from torch.utils.data import DataLoader, random_split\n",
        "from sklearn.metrics import classification_report, confusion_matrix\n",
        "import matplotlib.pyplot as plt\n"
      ]
    },
    {
      "cell_type": "code",
      "execution_count": 46,
      "metadata": {
        "id": "NwmT2tLeyg3w"
      },
      "outputs": [],
      "source": [
        "\n",
        "# Hyperparameters\n",
        "IMAGE_HEIGHT = 128  # Adjust based on your dataset\n",
        "IMAGE_WIDTH = 128   # Adjust based on your dataset\n",
        "BATCH_SIZE = 8      # Reduced batch size to avoid OOM\n",
        "NUM_EPOCHS = 10\n",
        "LEARNING_RATE = 0.001\n",
        "ACCUMULATION_STEPS = 4  # Gradient accumulation steps\n"
      ]
    },
    {
      "cell_type": "code",
      "execution_count": 47,
      "metadata": {
        "id": "_cUph5TbymJB"
      },
      "outputs": [],
      "source": [
        "\n",
        "# Define transformations\n",
        "transform = transforms.Compose([\n",
        "    transforms.Resize((IMAGE_HEIGHT, IMAGE_WIDTH)),  # Resize images\n",
        "    transforms.ToTensor(),                          # Convert to tensor\n",
        "    transforms.Normalize(mean=[0.485, 0.456, 0.406], std=[0.229, 0.224, 0.225])  # Normalize\n",
        "])\n",
        "\n",
        "# Load dataset\n",
        "\n",
        "dataset = datasets.ImageFolder(root=data_dir, transform=transform)\n",
        "\n",
        "# Split dataset into train (70%), validation (20%), and test (10%)\n",
        "train_size = int(0.7 * len(dataset))\n",
        "val_size = int(0.2 * len(dataset))\n",
        "test_size = len(dataset) - train_size - val_size\n",
        "\n",
        "train_dataset, val_dataset, test_dataset = random_split(dataset, [train_size, val_size, test_size])\n",
        "\n",
        "# Create data loaders\n",
        "train_loader = DataLoader(train_dataset, batch_size=BATCH_SIZE, shuffle=True)\n",
        "val_loader = DataLoader(val_dataset, batch_size=BATCH_SIZE, shuffle=False)\n",
        "test_loader = DataLoader(test_dataset, batch_size=BATCH_SIZE, shuffle=False)\n"
      ]
    },
    {
      "cell_type": "code",
      "execution_count": 48,
      "metadata": {
        "id": "1_pSdvSvzC7L"
      },
      "outputs": [],
      "source": [
        "\n",
        "# Define the model\n",
        "# Import the model class\n",
        "from model import BuildingClassifier\n",
        "\n",
        "\n",
        "# Initialize the model, loss function, and optimizer\n",
        "device = torch.device(\"cuda\" if torch.cuda.is_available() else \"cpu\")\n",
        "model = BuildingClassifier().to(device)\n",
        "criterion = nn.CrossEntropyLoss()\n",
        "optimizer = optim.Adam(model.parameters(), lr=LEARNING_RATE)\n"
      ]
    },
    {
      "cell_type": "code",
      "execution_count": 49,
      "metadata": {
        "id": "lBGvimvky_1F"
      },
      "outputs": [
        {
          "name": "stdout",
          "output_type": "stream",
          "text": [
            "Epoch [1/10], Train Loss: 0.8959, Train Acc: 58.06%\n",
            "Validation Loss: 0.7397, Validation Acc: 67.36%\n",
            "Epoch [2/10], Train Loss: 0.6872, Train Acc: 68.46%\n",
            "Validation Loss: 0.7134, Validation Acc: 69.04%\n",
            "Epoch [3/10], Train Loss: 0.5825, Train Acc: 74.19%\n",
            "Validation Loss: 0.6214, Validation Acc: 71.97%\n",
            "Epoch [4/10], Train Loss: 0.4826, Train Acc: 80.76%\n",
            "Validation Loss: 0.5736, Validation Acc: 76.57%\n",
            "Epoch [5/10], Train Loss: 0.4356, Train Acc: 83.99%\n",
            "Validation Loss: 0.5671, Validation Acc: 77.41%\n",
            "Epoch [6/10], Train Loss: 0.3219, Train Acc: 89.25%\n",
            "Validation Loss: 0.6437, Validation Acc: 71.13%\n",
            "Epoch [7/10], Train Loss: 0.3021, Train Acc: 90.44%\n",
            "Validation Loss: 0.6748, Validation Acc: 67.78%\n",
            "Epoch [8/10], Train Loss: 0.2473, Train Acc: 90.92%\n",
            "Validation Loss: 0.6004, Validation Acc: 77.41%\n",
            "Epoch [9/10], Train Loss: 0.1821, Train Acc: 94.98%\n",
            "Validation Loss: 0.5898, Validation Acc: 75.73%\n",
            "Epoch [10/10], Train Loss: 0.1908, Train Acc: 94.15%\n",
            "Validation Loss: 0.6331, Validation Acc: 74.48%\n"
          ]
        }
      ],
      "source": [
        "\n",
        "# Training loop\n",
        "for epoch in range(NUM_EPOCHS):\n",
        "    model.train()\n",
        "    running_loss = 0.0\n",
        "    correct = 0\n",
        "    total = 0\n",
        "\n",
        "    optimizer.zero_grad()  # Reset gradients at the start of each epoch\n",
        "\n",
        "    for i, (inputs, labels) in enumerate(train_loader):\n",
        "        inputs, labels = inputs.to(device), labels.to(device)\n",
        "\n",
        "        # Forward pass\n",
        "        outputs = model(inputs)\n",
        "        loss = criterion(outputs, labels) / ACCUMULATION_STEPS  # Scale loss\n",
        "        loss.backward()  # Accumulate gradients\n",
        "\n",
        "        # Update weights every `accumulation_steps` batches\n",
        "        if (i + 1) % ACCUMULATION_STEPS == 0:\n",
        "            optimizer.step()  # Update weights\n",
        "            optimizer.zero_grad()  # Reset gradients\n",
        "\n",
        "        # Compute statistics\n",
        "        running_loss += loss.item() * ACCUMULATION_STEPS\n",
        "        _, predicted = outputs.max(1)\n",
        "        total += labels.size(0)\n",
        "        correct += predicted.eq(labels).sum().item()\n",
        "    # Print training statistics\n",
        "    train_loss = running_loss / len(train_loader)\n",
        "    train_acc = 100.0 * correct / total\n",
        "    print(f\"Epoch [{epoch+1}/{NUM_EPOCHS}], Train Loss: {train_loss:.4f}, Train Acc: {train_acc:.2f}%\")\n",
        "\n",
        "    # Validation\n",
        "    model.eval()\n",
        "    val_loss = 0.0\n",
        "    correct = 0\n",
        "    total = 0\n",
        "\n",
        "    with torch.no_grad():\n",
        "        for inputs, labels in val_loader:\n",
        "            inputs, labels = inputs.to(device), labels.to(device)\n",
        "            outputs = model(inputs)\n",
        "            loss = criterion(outputs, labels)\n",
        "            val_loss += loss.item()\n",
        "            _, predicted = outputs.max(1)\n",
        "            total += labels.size(0)\n",
        "            correct += predicted.eq(labels).sum().item()\n",
        "\n",
        "    val_loss /= len(val_loader)\n",
        "    val_acc = 100.0 * correct / total\n",
        "    print(f\"Validation Loss: {val_loss:.4f}, Validation Acc: {val_acc:.2f}%\")\n",
        "\n"
      ]
    },
    {
      "cell_type": "code",
      "execution_count": null,
      "metadata": {},
      "outputs": [],
      "source": []
    },
    {
      "cell_type": "code",
      "execution_count": null,
      "metadata": {
        "colab": {
          "base_uri": "https://localhost:8080/"
        },
        "id": "0ic5YslIy2Ux",
        "outputId": "2a24de55-e150-4fea-a48a-f56dd012a040"
      },
      "outputs": [],
      "source": [
        "\n"
      ]
    },
    {
      "cell_type": "code",
      "execution_count": 50,
      "metadata": {
        "id": "nNvL7YYSy0Cc"
      },
      "outputs": [],
      "source": [
        "\n",
        "# Evaluate on the test set\n",
        "model.eval()\n",
        "y_true = []\n",
        "y_pred = []\n",
        "\n",
        "with torch.no_grad():\n",
        "    for inputs, labels in test_loader:\n",
        "        inputs, labels = inputs.to(device), labels.to(device)\n",
        "        outputs = model(inputs)\n",
        "        _, predicted = outputs.max(1)\n",
        "        y_true.extend(labels.cpu().numpy())\n",
        "        y_pred.extend(predicted.cpu().numpy())\n"
      ]
    },
    {
      "cell_type": "code",
      "execution_count": 51,
      "metadata": {
        "colab": {
          "base_uri": "https://localhost:8080/"
        },
        "id": "eNM0HV3eytOD",
        "outputId": "bb0e20eb-7997-4826-9f76-aeb1baacc6d7"
      },
      "outputs": [
        {
          "name": "stdout",
          "output_type": "stream",
          "text": [
            "Classification Report:\n",
            "                 precision    recall  f1-score   support\n",
            "\n",
            "       Bungalow       0.76      0.58      0.66        43\n",
            "      High-rise       0.72      0.87      0.79        15\n",
            "Storey-building       0.71      0.79      0.75        63\n",
            "\n",
            "       accuracy                           0.73       121\n",
            "      macro avg       0.73      0.75      0.73       121\n",
            "   weighted avg       0.73      0.73      0.72       121\n",
            "\n"
          ]
        }
      ],
      "source": [
        "\n",
        "# Classification report\n",
        "class_names = list(dataset.class_to_idx.keys())\n",
        "print(\"Classification Report:\")\n",
        "print(classification_report(y_true, y_pred, target_names=class_names))\n"
      ]
    },
    {
      "cell_type": "code",
      "execution_count": 52,
      "metadata": {
        "colab": {
          "base_uri": "https://localhost:8080/"
        },
        "id": "62YgHqwhyqTy",
        "outputId": "a54491a0-466c-41b5-ba9b-6c89d8e189c9"
      },
      "outputs": [
        {
          "name": "stdout",
          "output_type": "stream",
          "text": [
            "Confusion Matrix:\n",
            "[[25  0 18]\n",
            " [ 0 13  2]\n",
            " [ 8  5 50]]\n"
          ]
        }
      ],
      "source": [
        "# Confusion matrix\n",
        "cm = confusion_matrix(y_true, y_pred)\n",
        "print(\"Confusion Matrix:\")\n",
        "print(cm)\n"
      ]
    },
    {
      "cell_type": "code",
      "execution_count": 53,
      "metadata": {
        "colab": {
          "base_uri": "https://localhost:8080/",
          "height": 564
        },
        "id": "XTbnH6xiREJk",
        "outputId": "118eacef-ad05-4580-e287-1f6e4d961123"
      },
      "outputs": [
        {
          "data": {
            "image/png": "[encoded data removed]",
            "text/plain": [
              "<Figure size 800x600 with 2 Axes>"
            ]
          },
          "metadata": {},
          "output_type": "display_data"
        }
      ],
      "source": [
        "import seaborn as sns\n",
        "\n",
        "# Plot confusion matrix\n",
        "plt.figure(figsize=(8, 6))\n",
        "sns.heatmap(cm, annot=True, fmt='d', cmap='Blues', xticklabels=class_names, yticklabels=class_names)\n",
        "plt.xlabel('Predicted')\n",
        "plt.ylabel('Actual')\n",
        "plt.title('Confusion Matrix')\n",
        "plt.show()"
      ]
    },
    {
      "cell_type": "markdown",
      "metadata": {},
      "source": [
        "Save Model"
      ]
    },
    {
      "cell_type": "code",
      "execution_count": 64,
      "metadata": {},
      "outputs": [],
      "source": [
        "from pathlib import Path\n",
        "\n",
        "# Save the model\n",
        "torch.save(model.state_dict(), \"../model/ExportedModel.pth\")"
      ]
    },
    {
      "cell_type": "code",
      "execution_count": null,
      "metadata": {},
      "outputs": [],
      "source": []
    }
  ],
  "metadata": {
    "accelerator": "GPU",
    "colab": {
      "gpuType": "T4",
      "provenance": []
    },
    "kernelspec": {
      "display_name": "Python 3",
      "name": "python3"
    },
    "language_info": {
      "codemirror_mode": {
        "name": "ipython",
        "version": 3
      },
      "file_extension": ".py",
      "mimetype": "text/x-python",
      "name": "python",
      "nbconvert_exporter": "python",
      "pygments_lexer": "ipython3",
      "version": "3.13.1"
    }
  },
  "nbformat": 4,
  "nbformat_minor": 0
}
