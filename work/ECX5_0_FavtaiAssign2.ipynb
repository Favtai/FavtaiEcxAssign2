{
  "cells": [
    {
      "cell_type": "markdown",
      "metadata": {
        "id": "hNeBtncoJmKv"
      },
      "source": [
        "# **FAVOUR TAIWO ECX Assignment 2**"
      ]
    },
    {
      "cell_type": "markdown",
      "metadata": {
        "id": "DT8RXN-6zxly"
      },
      "source": [
        "## PYTOUCH"
      ]
    },
    {
      "cell_type": "code",
      "execution_count": 20,
      "metadata": {
        "id": "QNuU3RVPR75a"
      },
      "outputs": [],
      "source": [
        "# Define paths for data\n",
        "data_dir = '../data/Building Types' # Ensure the name of the folder is set to this.\n",
        "class_names = ['Bungalow', 'Highrise', 'Storey-Building']"
      ]
    },
    {
      "cell_type": "code",
      "execution_count": null,
      "metadata": {
        "id": "9q6gbH_zR9nI"
      },
      "outputs": [],
      "source": []
    },
    {
      "cell_type": "code",
      "execution_count": 21,
      "metadata": {
        "collapsed": true,
        "id": "YpLJEIPVREOy"
      },
      "outputs": [],
      "source": [
        "\n",
        "import torch\n",
        "import torch.nn as nn\n",
        "import torch.optim as optim\n",
        "from torchvision import datasets, transforms\n",
        "from torch.utils.data import DataLoader, random_split\n",
        "import numpy as np\n",
        "from sklearn.metrics import classification_report, confusion_matrix\n",
        "import matplotlib.pyplot as plt\n",
        "import torch.nn.functional as F # Import F for functional operations"
      ]
    },
    {
      "cell_type": "code",
      "execution_count": 22,
      "metadata": {
        "id": "NwmT2tLeyg3w"
      },
      "outputs": [],
      "source": [
        "\n",
        "# Hyperparameters\n",
        "IMAGE_HEIGHT = 128  # Adjust based on your dataset\n",
        "IMAGE_WIDTH = 128   # Adjust based on your dataset\n",
        "BATCH_SIZE = 8      # Reduced batch size to avoid OOM\n",
        "NUM_EPOCHS = 10\n",
        "LEARNING_RATE = 0.001\n",
        "ACCUMULATION_STEPS = 4  # Gradient accumulation steps\n"
      ]
    },
    {
      "cell_type": "code",
      "execution_count": 23,
      "metadata": {
        "id": "_cUph5TbymJB"
      },
      "outputs": [],
      "source": [
        "\n",
        "# Define transformations\n",
        "transform = transforms.Compose([\n",
        "    transforms.Resize((IMAGE_HEIGHT, IMAGE_WIDTH)),  # Resize images\n",
        "    transforms.ToTensor(),                          # Convert to tensor\n",
        "    transforms.Normalize(mean=[0.485, 0.456, 0.406], std=[0.229, 0.224, 0.225])  # Normalize\n",
        "])\n",
        "\n",
        "# Load dataset\n",
        "\n",
        "dataset = datasets.ImageFolder(root=data_dir, transform=transform)\n",
        "\n",
        "# Split dataset into train (70%), validation (20%), and test (10%)\n",
        "train_size = int(0.7 * len(dataset))\n",
        "val_size = int(0.2 * len(dataset))\n",
        "test_size = len(dataset) - train_size - val_size\n",
        "\n",
        "train_dataset, val_dataset, test_dataset = random_split(dataset, [train_size, val_size, test_size])\n",
        "\n",
        "# Create data loaders\n",
        "train_loader = DataLoader(train_dataset, batch_size=BATCH_SIZE, shuffle=True)\n",
        "val_loader = DataLoader(val_dataset, batch_size=BATCH_SIZE, shuffle=False)\n",
        "test_loader = DataLoader(test_dataset, batch_size=BATCH_SIZE, shuffle=False)\n"
      ]
    },
    {
      "cell_type": "code",
      "execution_count": 24,
      "metadata": {
        "id": "1_pSdvSvzC7L"
      },
      "outputs": [],
      "source": [
        "\n",
        "# Define the model\n",
        "class BuildingClassifier(nn.Module):\n",
        "    def __init__(self):\n",
        "        super(BuildingClassifier, self).__init__()\n",
        "        self.conv1 = nn.Conv2d(3, 16, kernel_size=3, stride=1, padding=1)  # Fewer filters\n",
        "        self.bn1 = nn.BatchNorm2d(16)\n",
        "        self.pool = nn.MaxPool2d(kernel_size=2, stride=2)\n",
        "        self.conv2 = nn.Conv2d(16, 32, kernel_size=3, stride=1, padding=1)  # Fewer filters\n",
        "        self.bn2 = nn.BatchNorm2d(32)\n",
        "        self.conv3 = nn.Conv2d(32, 64, kernel_size=3, stride=1, padding=1)  # Fewer filters\n",
        "        self.bn3 = nn.BatchNorm2d(64)\n",
        "        self.fc1 = nn.Linear(64 * (IMAGE_HEIGHT // 8) * (IMAGE_WIDTH // 8), 128)  # Fewer neurons\n",
        "        self.bn4 = nn.BatchNorm1d(128)\n",
        "        self.dropout = nn.Dropout(0.5)\n",
        "        self.fc2 = nn.Linear(128, 3)  # 3 output classes\n",
        "\n",
        "    def forward(self, x):\n",
        "        x = self.pool(F.relu(self.bn1(self.conv1(x))))\n",
        "        x = self.pool(F.relu(self.bn2(self.conv2(x))))\n",
        "        x = self.pool(F.relu(self.bn3(self.conv3(x))))\n",
        "        x = x.view(x.size(0), -1)  # Flatten\n",
        "        x = F.relu(self.bn4(self.fc1(x)))\n",
        "        x = self.dropout(x)\n",
        "        x = self.fc2(x)\n",
        "        return x\n",
        "\n",
        "# Initialize the model, loss function, and optimizer\n",
        "device = torch.device(\"cuda\" if torch.cuda.is_available() else \"cpu\")\n",
        "model = BuildingClassifier().to(device)\n",
        "criterion = nn.CrossEntropyLoss()\n",
        "optimizer = optim.Adam(model.parameters(), lr=LEARNING_RATE)\n"
      ]
    },
    {
      "cell_type": "code",
      "execution_count": 25,
      "metadata": {
        "id": "lBGvimvky_1F"
      },
      "outputs": [
        {
          "name": "stdout",
          "output_type": "stream",
          "text": [
            "Epoch [1/10], Train Loss: 0.9062, Train Acc: 56.15%\n",
            "Validation Loss: 0.7142, Validation Acc: 68.20%\n",
            "Epoch [2/10], Train Loss: 0.6521, Train Acc: 70.37%\n",
            "Validation Loss: 0.6294, Validation Acc: 71.55%\n",
            "Epoch [3/10], Train Loss: 0.5625, Train Acc: 75.63%\n",
            "Validation Loss: 0.5883, Validation Acc: 76.15%\n",
            "Epoch [4/10], Train Loss: 0.4794, Train Acc: 80.76%\n",
            "Validation Loss: 0.6107, Validation Acc: 74.48%\n",
            "Epoch [5/10], Train Loss: 0.3832, Train Acc: 86.26%\n",
            "Validation Loss: 0.5810, Validation Acc: 74.06%\n",
            "Epoch [6/10], Train Loss: 0.3414, Train Acc: 88.17%\n",
            "Validation Loss: 0.6775, Validation Acc: 71.13%\n",
            "Epoch [7/10], Train Loss: 0.2847, Train Acc: 90.80%\n",
            "Validation Loss: 0.5932, Validation Acc: 75.73%\n",
            "Epoch [8/10], Train Loss: 0.2586, Train Acc: 92.47%\n",
            "Validation Loss: 0.5981, Validation Acc: 75.73%\n",
            "Epoch [9/10], Train Loss: 0.2397, Train Acc: 92.00%\n",
            "Validation Loss: 0.6093, Validation Acc: 72.80%\n",
            "Epoch [10/10], Train Loss: 0.2100, Train Acc: 93.19%\n",
            "Validation Loss: 0.6676, Validation Acc: 73.64%\n"
          ]
        }
      ],
      "source": [
        "\n",
        "# Training loop\n",
        "for epoch in range(NUM_EPOCHS):\n",
        "    model.train()\n",
        "    running_loss = 0.0\n",
        "    correct = 0\n",
        "    total = 0\n",
        "\n",
        "    optimizer.zero_grad()  # Reset gradients at the start of each epoch\n",
        "\n",
        "    for i, (inputs, labels) in enumerate(train_loader):\n",
        "        inputs, labels = inputs.to(device), labels.to(device)\n",
        "\n",
        "        # Forward pass\n",
        "        outputs = model(inputs)\n",
        "        loss = criterion(outputs, labels) / ACCUMULATION_STEPS  # Scale loss\n",
        "        loss.backward()  # Accumulate gradients\n",
        "\n",
        "        # Update weights every `accumulation_steps` batches\n",
        "        if (i + 1) % ACCUMULATION_STEPS == 0:\n",
        "            optimizer.step()  # Update weights\n",
        "            optimizer.zero_grad()  # Reset gradients\n",
        "\n",
        "        # Compute statistics\n",
        "        running_loss += loss.item() * ACCUMULATION_STEPS\n",
        "        _, predicted = outputs.max(1)\n",
        "        total += labels.size(0)\n",
        "        correct += predicted.eq(labels).sum().item()\n",
        "    # Print training statistics\n",
        "    train_loss = running_loss / len(train_loader)\n",
        "    train_acc = 100.0 * correct / total\n",
        "    print(f\"Epoch [{epoch+1}/{NUM_EPOCHS}], Train Loss: {train_loss:.4f}, Train Acc: {train_acc:.2f}%\")\n",
        "\n",
        "    # Validation\n",
        "    model.eval()\n",
        "    val_loss = 0.0\n",
        "    correct = 0\n",
        "    total = 0\n",
        "\n",
        "    with torch.no_grad():\n",
        "        for inputs, labels in val_loader:\n",
        "            inputs, labels = inputs.to(device), labels.to(device)\n",
        "            outputs = model(inputs)\n",
        "            loss = criterion(outputs, labels)\n",
        "            val_loss += loss.item()\n",
        "            _, predicted = outputs.max(1)\n",
        "            total += labels.size(0)\n",
        "            correct += predicted.eq(labels).sum().item()\n",
        "\n",
        "    val_loss /= len(val_loader)\n",
        "    val_acc = 100.0 * correct / total\n",
        "    print(f\"Validation Loss: {val_loss:.4f}, Validation Acc: {val_acc:.2f}%\")\n",
        "\n"
      ]
    },
    {
      "cell_type": "code",
      "execution_count": null,
      "metadata": {
        "colab": {
          "base_uri": "https://localhost:8080/"
        },
        "id": "0ic5YslIy2Ux",
        "outputId": "2a24de55-e150-4fea-a48a-f56dd012a040"
      },
      "outputs": [],
      "source": [
        "\n"
      ]
    },
    {
      "cell_type": "code",
      "execution_count": 26,
      "metadata": {
        "id": "nNvL7YYSy0Cc"
      },
      "outputs": [],
      "source": [
        "\n",
        "# Evaluate on the test set\n",
        "model.eval()\n",
        "y_true = []\n",
        "y_pred = []\n",
        "\n",
        "with torch.no_grad():\n",
        "    for inputs, labels in test_loader:\n",
        "        inputs, labels = inputs.to(device), labels.to(device)\n",
        "        outputs = model(inputs)\n",
        "        _, predicted = outputs.max(1)\n",
        "        y_true.extend(labels.cpu().numpy())\n",
        "        y_pred.extend(predicted.cpu().numpy())\n"
      ]
    },
    {
      "cell_type": "code",
      "execution_count": 27,
      "metadata": {
        "colab": {
          "base_uri": "https://localhost:8080/"
        },
        "id": "eNM0HV3eytOD",
        "outputId": "bb0e20eb-7997-4826-9f76-aeb1baacc6d7"
      },
      "outputs": [
        {
          "name": "stdout",
          "output_type": "stream",
          "text": [
            "Classification Report:\n",
            "                 precision    recall  f1-score   support\n",
            "\n",
            "       Bungalow       0.68      0.53      0.59        36\n",
            "      High-rise       0.83      0.86      0.84        22\n",
            "Storey-building       0.73      0.81      0.77        63\n",
            "\n",
            "       accuracy                           0.74       121\n",
            "      macro avg       0.74      0.73      0.74       121\n",
            "   weighted avg       0.73      0.74      0.73       121\n",
            "\n"
          ]
        }
      ],
      "source": [
        "\n",
        "# Classification report\n",
        "class_names = list(dataset.class_to_idx.keys())\n",
        "print(\"Classification Report:\")\n",
        "print(classification_report(y_true, y_pred, target_names=class_names))\n"
      ]
    },
    {
      "cell_type": "code",
      "execution_count": 28,
      "metadata": {
        "colab": {
          "base_uri": "https://localhost:8080/"
        },
        "id": "62YgHqwhyqTy",
        "outputId": "a54491a0-466c-41b5-ba9b-6c89d8e189c9"
      },
      "outputs": [
        {
          "name": "stdout",
          "output_type": "stream",
          "text": [
            "Confusion Matrix:\n",
            "[[19  1 16]\n",
            " [ 0 19  3]\n",
            " [ 9  3 51]]\n"
          ]
        }
      ],
      "source": [
        "# Confusion matrix\n",
        "cm = confusion_matrix(y_true, y_pred)\n",
        "print(\"Confusion Matrix:\")\n",
        "print(cm)\n"
      ]
    },
    {
      "cell_type": "code",
      "execution_count": 30,
      "metadata": {
        "colab": {
          "base_uri": "https://localhost:8080/",
          "height": 564
        },
        "id": "XTbnH6xiREJk",
        "outputId": "118eacef-ad05-4580-e287-1f6e4d961123"
      },
      "outputs": [
        {
          "data": {
            "image/png": "[encoded data removed]",
            "text/plain": [
              "<Figure size 800x600 with 2 Axes>"
            ]
          },
          "metadata": {},
          "output_type": "display_data"
        }
      ],
      "source": [
        "import seaborn as sns\n",
        "\n",
        "# Plot confusion matrix\n",
        "plt.figure(figsize=(8, 6))\n",
        "sns.heatmap(cm, annot=True, fmt='d', cmap='Blues', xticklabels=class_names, yticklabels=class_names)\n",
        "plt.xlabel('Predicted')\n",
        "plt.ylabel('Actual')\n",
        "plt.title('Confusion Matrix')\n",
        "plt.show()"
      ]
    },
    {
      "cell_type": "markdown",
      "metadata": {},
      "source": [
        "Save Model"
      ]
    },
    {
      "cell_type": "code",
      "execution_count": null,
      "metadata": {},
      "outputs": [],
      "source": []
    },
    {
      "cell_type": "code",
      "execution_count": null,
      "metadata": {
        "id": "i-9YxTMbREIL"
      },
      "outputs": [],
      "source": [
        "import pickle\n",
        "with open('../model/building_model.pkl', 'wb') as model_file:\n",
        "    pickle.dump(model, model_file)"
      ]
    }
  ],
  "metadata": {
    "accelerator": "GPU",
    "colab": {
      "gpuType": "T4",
      "provenance": []
    },
    "kernelspec": {
      "display_name": "Python 3",
      "name": "python3"
    },
    "language_info": {
      "codemirror_mode": {
        "name": "ipython",
        "version": 3
      },
      "file_extension": ".py",
      "mimetype": "text/x-python",
      "name": "python",
      "nbconvert_exporter": "python",
      "pygments_lexer": "ipython3",
      "version": "3.13.1"
    }
  },
  "nbformat": 4,
  "nbformat_minor": 0
}
