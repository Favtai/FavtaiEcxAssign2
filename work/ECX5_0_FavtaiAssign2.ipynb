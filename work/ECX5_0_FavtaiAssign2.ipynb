{
  "cells": [
    {
      "cell_type": "markdown",
      "metadata": {
        "id": "hNeBtncoJmKv"
      },
      "source": [
        "# **FAVOUR TAIWO ECX Assignment 2**"
      ]
    },
    {
      "cell_type": "code",
      "execution_count": null,
      "metadata": {
        "id": "yLDqVbjvHUG0"
      },
      "outputs": [],
      "source": [
        "# from google.colab import drive\n",
        "# drive.mount('/content/drive')"
      ]
    },
    {
      "cell_type": "code",
      "execution_count": null,
      "metadata": {
        "collapsed": true,
        "id": "JKc61GMNHS7G"
      },
      "outputs": [],
      "source": [
        "# !unzip \"/content/drive/MyDrive/ECX/Assignment2/Building Types.zip\""
      ]
    },
    {
      "cell_type": "markdown",
      "metadata": {
        "id": "Idr2BmFbLtx3"
      },
      "source": [
        "## TENSORFLOW"
      ]
    },
    {
      "cell_type": "markdown",
      "metadata": {
        "id": "PX52nMLJLktM"
      },
      "source": [
        "### GETTING STARTED"
      ]
    },
    {
      "cell_type": "code",
      "execution_count": null,
      "metadata": {
        "id": "s8yiHJVNJmKy"
      },
      "outputs": [],
      "source": [
        "# Import necessary libraries\n",
        "import os\n",
        "import numpy as np\n",
        "import tensorflow as tf\n",
        "from tensorflow.keras.preprocessing.image import ImageDataGenerator\n",
        "import pandas as pd"
      ]
    },
    {
      "cell_type": "markdown",
      "metadata": {
        "id": "9mcBVbw9JmK0"
      },
      "source": [
        "### Define Constants"
      ]
    },
    {
      "cell_type": "code",
      "execution_count": null,
      "metadata": {
        "id": "1R9EXeN1JmK1"
      },
      "outputs": [],
      "source": [
        "\n",
        "IMAGE_HEIGHT = 400 # The height the image is to be resized to\n",
        "IMAGE_WIDTH = 300 # The width the image is to be resized to\n",
        "BATCH_SIZE = 8\n",
        "\n",
        "# Define paths for data\n",
        "data_dir = '/content/Building Types' # Ensure the name of the folder is set to this.\n",
        "class_names = ['Bungalow', 'Highrise', 'Storey-Building']\n",
        "\n"
      ]
    },
    {
      "cell_type": "markdown",
      "metadata": {
        "id": "nE7bkhXYJmK1"
      },
      "source": [
        "### Implement Data Generators and Preprocessing pipeline\n",
        "\n",
        "**This will create an easy preprocessing pipeline and will help load your data in batches**"
      ]
    },
    {
      "cell_type": "code",
      "execution_count": null,
      "metadata": {
        "colab": {
          "base_uri": "https://localhost:8080/"
        },
        "id": "vgAZFWawJmK1",
        "outputId": "20e79748-f681-44eb-94a1-d70daab661b5"
      },
      "outputs": [
        {
          "output_type": "stream",
          "name": "stdout",
          "text": [
            "Found 839 images belonging to 3 classes.\n",
            "Found 358 images belonging to 3 classes.\n",
            "Training class distribution: {'Bungalow': 0, 'High-rise': 1, 'Storey-building': 2}\n",
            "Validation class distribution: {'Bungalow': 0, 'High-rise': 1, 'Storey-building': 2}\n"
          ]
        }
      ],
      "source": [
        "# Set up data generators for training and testing\n",
        "datagen = ImageDataGenerator(\n",
        "    rescale=1./255,            # Normalize pixel values to [0,1]\n",
        "    validation_split=0.3,      # 20% of data will be used for validation\n",
        ")\n",
        "\n",
        "train_generator = datagen.flow_from_directory(\n",
        "    data_dir,                  # Path to your dataset\n",
        "    target_size=(IMAGE_HEIGHT, IMAGE_WIDTH),\n",
        "    batch_size=BATCH_SIZE,\n",
        "    class_mode='categorical',\n",
        "    subset='training'          # Use 70% of the data for training\n",
        ")\n",
        "\n",
        "temp_generator = datagen.flow_from_directory(\n",
        "    data_dir,\n",
        "    target_size=(IMAGE_HEIGHT, IMAGE_WIDTH),\n",
        "    batch_size=BATCH_SIZE,\n",
        "    class_mode='categorical',\n",
        "    subset='validation',\n",
        "    shuffle=False,\n",
        "    seed=42\n",
        ")\n",
        "\n",
        "\n",
        "print(\"Training class distribution:\", train_generator.class_indices)\n",
        "print(\"Validation class distribution:\", temp_generator.class_indices)\n"
      ]
    },
    {
      "cell_type": "code",
      "execution_count": null,
      "metadata": {
        "id": "e0iHFGxREhPs"
      },
      "outputs": [],
      "source": [
        "from sklearn.utils.class_weight import compute_class_weight\n",
        "\n",
        "# Compute class weights\n",
        "class_weights = compute_class_weight(\n",
        "    class_weight='balanced',\n",
        "    classes=np.unique(train_generator.classes),\n",
        "    y=train_generator.classes\n",
        ")\n",
        "class_weights_dict = dict(enumerate(class_weights))"
      ]
    },
    {
      "cell_type": "code",
      "execution_count": null,
      "metadata": {
        "id": "piDQfTyH1pwW"
      },
      "outputs": [],
      "source": [
        "import numpy as np\n",
        "from sklearn.model_selection import train_test_split\n",
        "\n",
        "# Extract data and labels from the temporary generator\n",
        "X_temp, y_temp = [], []\n",
        "for i in range(len(temp_generator)):\n",
        "    X, y = temp_generator[i]\n",
        "    X_temp.append(X)\n",
        "    y_temp.append(y)\n",
        "    if i >= len(temp_generator) - 1:  # Avoid looping indefinitely\n",
        "        break\n",
        "\n",
        "X_temp = np.vstack(X_temp)\n",
        "y_temp = np.vstack(y_temp)\n",
        "\n",
        "# Split the temporary data into validation (20%) and test (10%)\n",
        "X_val, X_test, y_val, y_test = train_test_split(\n",
        "    X_temp, y_temp,\n",
        "    test_size=0.333,  # 10% test / 30% total = 0.333\n",
        "    random_state=42\n",
        ")\n",
        "\n",
        "# Create validation and test generators\n",
        "validation_generator = (X_val, y_val)\n",
        "test_generator = (X_test, y_test)"
      ]
    },
    {
      "cell_type": "code",
      "execution_count": null,
      "metadata": {
        "colab": {
          "base_uri": "https://localhost:8080/"
        },
        "id": "tTqBqQQZYF4p",
        "outputId": "a1cea2c3-0ddf-42ef-84df-4fb477903816"
      },
      "outputs": [
        {
          "output_type": "stream",
          "name": "stdout",
          "text": [
            "Validation data shape: (238, 400, 300, 3)\n",
            "Test data shape: (120, 400, 300, 3)\n"
          ]
        }
      ],
      "source": [
        "print(f\"Validation data shape: {validation_generator[0].shape}\")\n",
        "print(f\"Test data shape: {test_generator[0].shape}\")"
      ]
    },
    {
      "cell_type": "markdown",
      "metadata": {
        "id": "7t4mm_i3JmK2"
      },
      "source": [
        "### Model architecture"
      ]
    },
    {
      "cell_type": "code",
      "execution_count": null,
      "metadata": {
        "colab": {
          "base_uri": "https://localhost:8080/"
        },
        "id": "DQ9UMCKp3dK8",
        "outputId": "53462e29-2508-4939-b49a-eb53867a28a0"
      },
      "outputs": [
        {
          "output_type": "stream",
          "name": "stderr",
          "text": [
            "/usr/local/lib/python3.11/dist-packages/keras/src/layers/convolutional/base_conv.py:107: UserWarning: Do not pass an `input_shape`/`input_dim` argument to a layer. When using Sequential models, prefer using an `Input(shape)` object as the first layer in the model instead.\n",
            "  super().__init__(activity_regularizer=activity_regularizer, **kwargs)\n"
          ]
        }
      ],
      "source": [
        "# Define the model architecture UPDATED\n",
        "model = tf.keras.Sequential([\n",
        "    tf.keras.layers.Conv2D(32, (3,3), activation='relu', input_shape=(IMAGE_HEIGHT, IMAGE_WIDTH, 3)),\n",
        "    tf.keras.layers.MaxPooling2D(2,2),\n",
        "    tf.keras.layers.Conv2D(64, (3,3), activation='relu'),\n",
        "    tf.keras.layers.MaxPooling2D(2,2),\n",
        "    tf.keras.layers.Conv2D(128, (3,3), activation='relu'),\n",
        "    tf.keras.layers.MaxPooling2D(2,2),\n",
        "    tf.keras.layers.Flatten(),\n",
        "    tf.keras.layers.Dense(256, activation='relu'),  # Increased neurons\n",
        "    tf.keras.layers.Dropout(0.5),  # Add dropout for regularization\n",
        "    tf.keras.layers.Dense(3, activation='softmax')  # 3 classes for building types\n",
        "])"
      ]
    },
    {
      "cell_type": "code",
      "execution_count": null,
      "metadata": {
        "id": "7aUcEYzXSO_y"
      },
      "outputs": [],
      "source": [
        "# model = tf.keras.Sequential([\n",
        "#     tf.keras.layers.Conv2D(32, (3,3), activation='relu', input_shape=(IMAGE_HEIGHT, IMAGE_WIDTH, 3)),\n",
        "#     tf.keras.layers.BatchNormalization(),\n",
        "#     tf.keras.layers.MaxPooling2D(2,2),\n",
        "#     tf.keras.layers.Conv2D(64, (3,3), activation='relu'),\n",
        "#     tf.keras.layers.BatchNormalization(),\n",
        "#     tf.keras.layers.MaxPooling2D(2,2),\n",
        "#     tf.keras.layers.Conv2D(128, (3,3), activation='relu'),\n",
        "#     tf.keras.layers.BatchNormalization(),\n",
        "#     tf.keras.layers.MaxPooling2D(2,2),\n",
        "#     tf.keras.layers.Flatten(),\n",
        "#     tf.keras.layers.Dense(256, activation='relu'),\n",
        "#     tf.keras.layers.BatchNormalization(),\n",
        "#     tf.keras.layers.Dropout(0.5),\n",
        "#     tf.keras.layers.Dense(3, activation='softmax')\n",
        "# ])"
      ]
    },
    {
      "cell_type": "code",
      "execution_count": null,
      "metadata": {
        "id": "0FIeLi2bWpZW"
      },
      "outputs": [],
      "source": [
        "optimizer = tf.keras.optimizers.Adam(learning_rate=0.001)  # Adjust learning rate"
      ]
    },
    {
      "cell_type": "code",
      "execution_count": null,
      "metadata": {
        "id": "J0KnLXWlJmK2"
      },
      "outputs": [],
      "source": [
        "# Compile the model\n",
        "model.compile(optimizer = optimizer,\n",
        "            loss='categorical_crossentropy',\n",
        "            metrics=['accuracy'])\n",
        "\n"
      ]
    },
    {
      "cell_type": "code",
      "execution_count": null,
      "metadata": {
        "id": "lGoY4QL7ax0L"
      },
      "outputs": [],
      "source": []
    },
    {
      "cell_type": "code",
      "execution_count": null,
      "metadata": {
        "id": "sb_9ROG_axwz"
      },
      "outputs": [],
      "source": [
        "callbacks = [\n",
        "    tf.keras.callbacks.ModelCheckpoint(\n",
        "        filepath='best_model.keras',  # Save the best model\n",
        "        monitor='val_loss',\n",
        "        save_best_only=True,\n",
        "        verbose=1\n",
        "    ),\n",
        "    tf.keras.callbacks.EarlyStopping(\n",
        "        monitor='val_loss',\n",
        "        patience=5,  # Stop after 5 epochs without improvement\n",
        "        verbose=1\n",
        "    ),\n",
        "    tf.keras.callbacks.ReduceLROnPlateau(\n",
        "        monitor='val_loss',\n",
        "        factor=0.1,  # Reduce learning rate by a factor of 10\n",
        "        patience=3,  # Wait for 3 epochs before reducing\n",
        "        verbose=1\n",
        "    )\n",
        "]"
      ]
    },
    {
      "cell_type": "markdown",
      "metadata": {
        "id": "aLAbxi7fJmK2"
      },
      "source": [
        "### Train the model"
      ]
    },
    {
      "cell_type": "code",
      "execution_count": null,
      "metadata": {
        "colab": {
          "base_uri": "https://localhost:8080/"
        },
        "id": "oaX3J2xkJmK3",
        "outputId": "e1139fc2-5ac6-4e9f-a34a-3640faee5987"
      },
      "outputs": [
        {
          "output_type": "stream",
          "name": "stdout",
          "text": [
            "Epoch 1/20\n"
          ]
        },
        {
          "output_type": "stream",
          "name": "stderr",
          "text": [
            "/usr/local/lib/python3.11/dist-packages/keras/src/trainers/data_adapters/py_dataset_adapter.py:121: UserWarning: Your `PyDataset` class should call `super().__init__(**kwargs)` in its constructor. `**kwargs` can include `workers`, `use_multiprocessing`, `max_queue_size`. Do not pass these arguments to `fit()`, as they will be ignored.\n",
            "  self._warn_if_super_not_called()\n"
          ]
        },
        {
          "output_type": "stream",
          "name": "stdout",
          "text": [
            "\u001b[1m105/105\u001b[0m \u001b[32m━━━━━━━━━━━━━━━━━━━━\u001b[0m\u001b[37m\u001b[0m \u001b[1m0s\u001b[0m 3s/step - accuracy: 0.4848 - loss: 1.6923\n",
            "Epoch 1: val_loss improved from inf to 0.93059, saving model to best_model.keras\n",
            "\u001b[1m105/105\u001b[0m \u001b[32m━━━━━━━━━━━━━━━━━━━━\u001b[0m\u001b[37m\u001b[0m \u001b[1m315s\u001b[0m 3s/step - accuracy: 0.4851 - loss: 1.6871 - val_accuracy: 0.5882 - val_loss: 0.9306 - learning_rate: 0.0010\n",
            "Epoch 2/20\n",
            "\u001b[1m105/105\u001b[0m \u001b[32m━━━━━━━━━━━━━━━━━━━━\u001b[0m\u001b[37m\u001b[0m \u001b[1m0s\u001b[0m 3s/step - accuracy: 0.6530 - loss: 0.7372\n",
            "Epoch 2: val_loss improved from 0.93059 to 0.87247, saving model to best_model.keras\n",
            "\u001b[1m105/105\u001b[0m \u001b[32m━━━━━━━━━━━━━━━━━━━━\u001b[0m\u001b[37m\u001b[0m \u001b[1m326s\u001b[0m 3s/step - accuracy: 0.6529 - loss: 0.7373 - val_accuracy: 0.6303 - val_loss: 0.8725 - learning_rate: 0.0010\n",
            "Epoch 3/20\n",
            "\u001b[1m105/105\u001b[0m \u001b[32m━━━━━━━━━━━━━━━━━━━━\u001b[0m\u001b[37m\u001b[0m \u001b[1m0s\u001b[0m 3s/step - accuracy: 0.7130 - loss: 0.6547\n",
            "Epoch 3: val_loss did not improve from 0.87247\n",
            "\u001b[1m105/105\u001b[0m \u001b[32m━━━━━━━━━━━━━━━━━━━━\u001b[0m\u001b[37m\u001b[0m \u001b[1m309s\u001b[0m 3s/step - accuracy: 0.7130 - loss: 0.6546 - val_accuracy: 0.6429 - val_loss: 1.0023 - learning_rate: 0.0010\n",
            "Epoch 4/20\n",
            "\u001b[1m105/105\u001b[0m \u001b[32m━━━━━━━━━━━━━━━━━━━━\u001b[0m\u001b[37m\u001b[0m \u001b[1m0s\u001b[0m 3s/step - accuracy: 0.8449 - loss: 0.3789\n",
            "Epoch 4: val_loss did not improve from 0.87247\n",
            "\u001b[1m105/105\u001b[0m \u001b[32m━━━━━━━━━━━━━━━━━━━━\u001b[0m\u001b[37m\u001b[0m \u001b[1m319s\u001b[0m 3s/step - accuracy: 0.8449 - loss: 0.3791 - val_accuracy: 0.5840 - val_loss: 1.4868 - learning_rate: 0.0010\n",
            "Epoch 5/20\n",
            "\u001b[1m105/105\u001b[0m \u001b[32m━━━━━━━━━━━━━━━━━━━━\u001b[0m\u001b[37m\u001b[0m \u001b[1m0s\u001b[0m 3s/step - accuracy: 0.9073 - loss: 0.2422\n",
            "Epoch 5: val_loss did not improve from 0.87247\n",
            "\n",
            "Epoch 5: ReduceLROnPlateau reducing learning rate to 0.00010000000474974513.\n",
            "\u001b[1m105/105\u001b[0m \u001b[32m━━━━━━━━━━━━━━━━━━━━\u001b[0m\u001b[37m\u001b[0m \u001b[1m305s\u001b[0m 3s/step - accuracy: 0.9073 - loss: 0.2422 - val_accuracy: 0.6092 - val_loss: 1.5441 - learning_rate: 0.0010\n",
            "Epoch 6/20\n",
            "\u001b[1m105/105\u001b[0m \u001b[32m━━━━━━━━━━━━━━━━━━━━\u001b[0m\u001b[37m\u001b[0m \u001b[1m0s\u001b[0m 3s/step - accuracy: 0.9688 - loss: 0.1106\n",
            "Epoch 6: val_loss did not improve from 0.87247\n",
            "\u001b[1m105/105\u001b[0m \u001b[32m━━━━━━━━━━━━━━━━━━━━\u001b[0m\u001b[37m\u001b[0m \u001b[1m323s\u001b[0m 3s/step - accuracy: 0.9688 - loss: 0.1105 - val_accuracy: 0.6050 - val_loss: 1.7360 - learning_rate: 1.0000e-04\n",
            "Epoch 7/20\n",
            "\u001b[1m105/105\u001b[0m \u001b[32m━━━━━━━━━━━━━━━━━━━━\u001b[0m\u001b[37m\u001b[0m \u001b[1m0s\u001b[0m 3s/step - accuracy: 0.9779 - loss: 0.0754\n",
            "Epoch 7: val_loss did not improve from 0.87247\n",
            "\u001b[1m105/105\u001b[0m \u001b[32m━━━━━━━━━━━━━━━━━━━━\u001b[0m\u001b[37m\u001b[0m \u001b[1m308s\u001b[0m 3s/step - accuracy: 0.9778 - loss: 0.0755 - val_accuracy: 0.6050 - val_loss: 1.9034 - learning_rate: 1.0000e-04\n",
            "Epoch 7: early stopping\n"
          ]
        }
      ],
      "source": [
        "history = model.fit(\n",
        "    train_generator,\n",
        "    epochs=20,\n",
        "    validation_data= validation_generator,  # Use the validation generator\n",
        "    callbacks=callbacks\n",
        ")\n",
        "# This part of the code allows you to train the model. You can decide to tweak the number of epochs by experimenting with different values.\n",
        "# Rule of thumb: Avoid using too large epochs, to avoid overfitting."
      ]
    },
    {
      "cell_type": "markdown",
      "metadata": {
        "id": "tPPxbAhMJmK3"
      },
      "source": [
        "### Evaluate the model"
      ]
    },
    {
      "cell_type": "code",
      "execution_count": null,
      "metadata": {
        "colab": {
          "base_uri": "https://localhost:8080/"
        },
        "id": "-FanPVLxJmK3",
        "outputId": "2e4c950f-02dd-442f-f69f-e592f71752d9"
      },
      "outputs": [
        {
          "output_type": "stream",
          "name": "stdout",
          "text": [
            "4/4 - 8s - 2s/step - accuracy: 0.6500 - loss: 1.6294\n",
            "Test accuracy: 65.00%\n",
            "Test Loss: 1.6294\n"
          ]
        }
      ],
      "source": [
        "test_loss, test_acc = model.evaluate(test_generator[0], test_generator[1], verbose=2)\n",
        "print(f'Test accuracy: {test_acc*100:.2f}%')\n",
        "print(f\"Test Loss: {test_loss:.4f}\")"
      ]
    },
    {
      "cell_type": "code",
      "execution_count": null,
      "metadata": {
        "id": "c70o2tBT_OD8"
      },
      "outputs": [],
      "source": []
    },
    {
      "cell_type": "code",
      "execution_count": null,
      "metadata": {
        "colab": {
          "base_uri": "https://localhost:8080/"
        },
        "id": "J3uXjsqR_N3e",
        "outputId": "9ecc4fca-8caf-4333-847a-acc5182c31ef"
      },
      "outputs": [
        {
          "output_type": "stream",
          "name": "stderr",
          "text": [
            "/usr/local/lib/python3.11/dist-packages/keras/src/models/functional.py:237: UserWarning: The structure of `inputs` doesn't match the expected structure.\n",
            "Expected: keras_tensor\n",
            "Received: inputs=('Tensor(shape=(32, 400, 300, 3))', 'Tensor(shape=(32, 3))')\n",
            "  warnings.warn(msg)\n"
          ]
        },
        {
          "output_type": "stream",
          "name": "stdout",
          "text": [
            "\u001b[1m3/4\u001b[0m \u001b[32m━━━━━━━━━━━━━━━\u001b[0m\u001b[37m━━━━━\u001b[0m \u001b[1m2s\u001b[0m 2s/step"
          ]
        },
        {
          "output_type": "stream",
          "name": "stderr",
          "text": [
            "/usr/local/lib/python3.11/dist-packages/keras/src/models/functional.py:237: UserWarning: The structure of `inputs` doesn't match the expected structure.\n",
            "Expected: keras_tensor\n",
            "Received: inputs=('Tensor(shape=(None, 400, 300, 3))', 'Tensor(shape=(None, 3))')\n",
            "  warnings.warn(msg)\n"
          ]
        },
        {
          "output_type": "stream",
          "name": "stdout",
          "text": [
            "\u001b[1m4/4\u001b[0m \u001b[32m━━━━━━━━━━━━━━━━━━━━\u001b[0m\u001b[37m\u001b[0m \u001b[1m10s\u001b[0m 2s/step\n",
            "                 precision    recall  f1-score   support\n",
            "\n",
            "       Bungalow       0.68      0.58      0.63        45\n",
            "       Highrise       0.62      0.67      0.65        15\n",
            "Storey-Building       0.64      0.70      0.67        60\n",
            "\n",
            "       accuracy                           0.65       120\n",
            "      macro avg       0.65      0.65      0.65       120\n",
            "   weighted avg       0.65      0.65      0.65       120\n",
            "\n"
          ]
        }
      ],
      "source": [
        "from sklearn.metrics import classification_report\n",
        "\n",
        "# Get predictions\n",
        "y_pred = model.predict(test_generator)\n",
        "y_pred_classes = np.argmax(y_pred, axis=1)  # Convert probabilities to class labels\n",
        "\n",
        "# Get true labels\n",
        "y_true = np.argmax(test_generator[1], axis=1) # Get true labels from y_test\n",
        "\n",
        "# Generate classification report\n",
        "print(classification_report(y_true, y_pred_classes, target_names=class_names))"
      ]
    },
    {
      "cell_type": "code",
      "execution_count": null,
      "metadata": {
        "colab": {
          "base_uri": "https://localhost:8080/",
          "height": 564
        },
        "id": "sG1zFB3Q_V3N",
        "outputId": "cdec61fa-eab0-431e-9e0a-3af3da2560a5"
      },
      "outputs": [
        {
          "output_type": "display_data",
          "data": {
            "text/plain": [
              "<Figure size 800x600 with 2 Axes>"
            ],
            "image/png": "[encoded data removed]"
          },
          "metadata": {}
        }
      ],
      "source": [
        "from sklearn.metrics import confusion_matrix\n",
        "import seaborn as sns\n",
        "import matplotlib.pyplot as plt\n",
        "\n",
        "# Compute confusion matrix\n",
        "cm = confusion_matrix(y_true, y_pred_classes)\n",
        "\n",
        "# Plot confusion matrix\n",
        "plt.figure(figsize=(8, 6))\n",
        "sns.heatmap(cm, annot=True, fmt='d', cmap='Blues', xticklabels=class_names, yticklabels=class_names)\n",
        "plt.xlabel('Predicted')\n",
        "plt.ylabel('Actual')\n",
        "plt.title('Confusion Matrix')\n",
        "plt.show()"
      ]
    },
    {
      "cell_type": "markdown",
      "metadata": {
        "id": "fO9WdIy5NRt-"
      },
      "source": [
        "### RESULT ANALYSIS"
      ]
    },
    {
      "cell_type": "markdown",
      "metadata": {
        "id": "tJNpx8kD9Spq"
      },
      "source": [
        "CASE 1:\n",
        "      ImageDataGenerator twerked to carry out various edits\n",
        "      Added More Convolutional Layers, **Accuracy is 58.40%**👀\n",
        "\n",
        "\n",
        "CASE 2:\n",
        "      BatchSize increase to 64\n",
        "       **Accuracy is 58.40%** 👀    \n",
        "\n",
        "CASE 3:\n",
        "      Epoch increased to 20\n",
        "       **Accuracy is 60.50%** 👀\n",
        "\n",
        "CASE 4 :\n",
        "      train test validation approach used\n",
        "       **Accuracy is 65%** 👀\n",
        "\n",
        "CASE 5:\n",
        "      callbacks added\n",
        "       **Accuracy is 59.17%** 👀\n",
        "\n",
        "CASE 6:\n",
        "      BatchNormalization\n",
        "       **Accuracy is 37.50%** 👀\n",
        "\n",
        "CASE 7:learnng rate 0.01 no normarlization\n",
        "       **Accuracy is 50%** 👀\n",
        "      \n",
        "\n",
        "CASE 8:learnng rate 0.001, no normarlization and no edits to the image\n",
        "       **Accuracy is 56.67%** 👀\n",
        "      \n",
        "CASE 9:learnng rate 0.001, no normarlization and no edits to the image, BatchSize=8\n",
        "       **Accuracy is 65** 👀\n",
        "      "
      ]
    },
    {
      "cell_type": "markdown",
      "metadata": {
        "id": "farui87nJmK4"
      },
      "source": [
        "### Save the Model"
      ]
    },
    {
      "cell_type": "code",
      "execution_count": null,
      "metadata": {
        "colab": {
          "base_uri": "https://localhost:8080/"
        },
        "id": "co0XaCNqJmK4",
        "outputId": "4b4134e4-c26c-4375-83b7-2e1f26b4ce9d"
      },
      "outputs": [
        {
          "output_type": "stream",
          "name": "stdout",
          "text": [
            "Saved artifact at '/content/Model_mi_Owon'. The following endpoints are available:\n",
            "\n",
            "* Endpoint 'serve'\n",
            "  args_0 (POSITIONAL_ONLY): TensorSpec(shape=(None, 400, 300, 3), dtype=tf.float32, name='keras_tensor')\n",
            "Output Type:\n",
            "  TensorSpec(shape=(None, 3), dtype=tf.float32, name=None)\n",
            "Captures:\n",
            "  135053844961168: TensorSpec(shape=(), dtype=tf.resource, name=None)\n",
            "  135053844961360: TensorSpec(shape=(), dtype=tf.resource, name=None)\n",
            "  135053755433424: TensorSpec(shape=(), dtype=tf.resource, name=None)\n",
            "  135053755435536: TensorSpec(shape=(), dtype=tf.resource, name=None)\n",
            "  135053755434768: TensorSpec(shape=(), dtype=tf.resource, name=None)\n",
            "  135053755436112: TensorSpec(shape=(), dtype=tf.resource, name=None)\n",
            "  135053844961552: TensorSpec(shape=(), dtype=tf.resource, name=None)\n",
            "  135053755436496: TensorSpec(shape=(), dtype=tf.resource, name=None)\n",
            "  135053755436880: TensorSpec(shape=(), dtype=tf.resource, name=None)\n",
            "  135053755438416: TensorSpec(shape=(), dtype=tf.resource, name=None)\n"
          ]
        }
      ],
      "source": [
        "path_to_save_model = '/content/Model_mi_Owon'\n",
        "\n",
        "# Save the entire model (including architecture, weights, and optimizer state)\n",
        "model.export(path_to_save_model)\n",
        "\n",
        "# If you only want to save the model architecture and weights (without optimizer state)\n",
        "# Uncomment the following line and comment out the previous 'model.save()' line\n",
        "# model.save(path_to_save_model, save_format='tf')"
      ]
    },
    {
      "cell_type": "code",
      "execution_count": null,
      "metadata": {
        "id": "C56rdWe7RE0f"
      },
      "outputs": [],
      "source": []
    },
    {
      "cell_type": "code",
      "execution_count": null,
      "metadata": {
        "id": "PGPKh_fhSSHG"
      },
      "outputs": [],
      "source": []
    },
    {
      "cell_type": "markdown",
      "source": [
        "## PYTOUCH"
      ],
      "metadata": {
        "id": "DT8RXN-6zxly"
      }
    },
    {
      "cell_type": "code",
      "execution_count": null,
      "metadata": {
        "id": "QNuU3RVPR75a"
      },
      "outputs": [],
      "source": [
        "# Define paths for data\n",
        "data_dir = '/content/Building Types' # Ensure the name of the folder is set to this.\n",
        "class_names = ['Bungalow', 'Highrise', 'Storey-Building']"
      ]
    },
    {
      "cell_type": "code",
      "execution_count": null,
      "metadata": {
        "id": "9q6gbH_zR9nI"
      },
      "outputs": [],
      "source": []
    },
    {
      "cell_type": "code",
      "execution_count": null,
      "metadata": {
        "id": "YpLJEIPVREOy",
        "collapsed": true
      },
      "outputs": [],
      "source": [
        "import torch\n",
        "import torch.nn as nn\n",
        "import torch.optim as optim\n",
        "from torchvision import datasets, transforms\n",
        "from torch.utils.data import DataLoader, random_split\n",
        "import numpy as np\n",
        "from sklearn.metrics import classification_report, confusion_matrix\n",
        "import matplotlib.pyplot as plt\n",
        "import torch.nn.functional as F # Import F for functional operations"
      ]
    },
    {
      "cell_type": "code",
      "source": [
        "\n",
        "# Hyperparameters\n",
        "IMAGE_HEIGHT = 128  # Adjust based on your dataset\n",
        "IMAGE_WIDTH = 128   # Adjust based on your dataset\n",
        "BATCH_SIZE = 8      # Reduced batch size to avoid OOM\n",
        "NUM_EPOCHS = 10\n",
        "LEARNING_RATE = 0.001\n",
        "ACCUMULATION_STEPS = 4  # Gradient accumulation steps\n"
      ],
      "metadata": {
        "id": "NwmT2tLeyg3w"
      },
      "execution_count": null,
      "outputs": []
    },
    {
      "cell_type": "code",
      "source": [
        "\n",
        "# Define transformations\n",
        "transform = transforms.Compose([\n",
        "    transforms.Resize((IMAGE_HEIGHT, IMAGE_WIDTH)),  # Resize images\n",
        "    transforms.ToTensor(),                          # Convert to tensor\n",
        "    transforms.Normalize(mean=[0.485, 0.456, 0.406], std=[0.229, 0.224, 0.225])  # Normalize\n",
        "])\n",
        "\n",
        "# Load dataset\n",
        "data_dir = \"/content/Building Types\"  # Replace with your dataset path\n",
        "dataset = datasets.ImageFolder(root=data_dir, transform=transform)\n",
        "\n",
        "# Split dataset into train (70%), validation (20%), and test (10%)\n",
        "train_size = int(0.7 * len(dataset))\n",
        "val_size = int(0.2 * len(dataset))\n",
        "test_size = len(dataset) - train_size - val_size\n",
        "\n",
        "train_dataset, val_dataset, test_dataset = random_split(dataset, [train_size, val_size, test_size])\n",
        "\n",
        "# Create data loaders\n",
        "train_loader = DataLoader(train_dataset, batch_size=BATCH_SIZE, shuffle=True)\n",
        "val_loader = DataLoader(val_dataset, batch_size=BATCH_SIZE, shuffle=False)\n",
        "test_loader = DataLoader(test_dataset, batch_size=BATCH_SIZE, shuffle=False)\n"
      ],
      "metadata": {
        "id": "_cUph5TbymJB"
      },
      "execution_count": null,
      "outputs": []
    },
    {
      "cell_type": "code",
      "source": [
        "\n",
        "# Define the model\n",
        "class BuildingClassifier(nn.Module):\n",
        "    def __init__(self):\n",
        "        super(BuildingClassifier, self).__init__()\n",
        "        self.conv1 = nn.Conv2d(3, 16, kernel_size=3, stride=1, padding=1)  # Fewer filters\n",
        "        self.bn1 = nn.BatchNorm2d(16)\n",
        "        self.pool = nn.MaxPool2d(kernel_size=2, stride=2)\n",
        "        self.conv2 = nn.Conv2d(16, 32, kernel_size=3, stride=1, padding=1)  # Fewer filters\n",
        "        self.bn2 = nn.BatchNorm2d(32)\n",
        "        self.conv3 = nn.Conv2d(32, 64, kernel_size=3, stride=1, padding=1)  # Fewer filters\n",
        "        self.bn3 = nn.BatchNorm2d(64)\n",
        "        self.fc1 = nn.Linear(64 * (IMAGE_HEIGHT // 8) * (IMAGE_WIDTH // 8), 128)  # Fewer neurons\n",
        "        self.bn4 = nn.BatchNorm1d(128)\n",
        "        self.dropout = nn.Dropout(0.5)\n",
        "        self.fc2 = nn.Linear(128, 3)  # 3 output classes\n",
        "\n",
        "    def forward(self, x):\n",
        "        x = self.pool(F.relu(self.bn1(self.conv1(x))))\n",
        "        x = self.pool(F.relu(self.bn2(self.conv2(x))))\n",
        "        x = self.pool(F.relu(self.bn3(self.conv3(x))))\n",
        "        x = x.view(x.size(0), -1)  # Flatten\n",
        "        x = F.relu(self.bn4(self.fc1(x)))\n",
        "        x = self.dropout(x)\n",
        "        x = self.fc2(x)\n",
        "        return x\n",
        "\n",
        "# Initialize the model, loss function, and optimizer\n",
        "device = torch.device(\"cuda\" if torch.cuda.is_available() else \"cpu\")\n",
        "model = BuildingClassifier().to(device)\n",
        "criterion = nn.CrossEntropyLoss()\n",
        "optimizer = optim.Adam(model.parameters(), lr=LEARNING_RATE)\n"
      ],
      "metadata": {
        "id": "1_pSdvSvzC7L"
      },
      "execution_count": null,
      "outputs": []
    },
    {
      "cell_type": "code",
      "source": [
        "\n",
        "# Training loop\n",
        "for epoch in range(NUM_EPOCHS):\n",
        "    model.train()\n",
        "    running_loss = 0.0\n",
        "    correct = 0\n",
        "    total = 0\n",
        "\n",
        "    optimizer.zero_grad()  # Reset gradients at the start of each epoch\n",
        "\n",
        "    for i, (inputs, labels) in enumerate(train_loader):\n",
        "        inputs, labels = inputs.to(device), labels.to(device)\n",
        "\n",
        "        # Forward pass\n",
        "        outputs = model(inputs)\n",
        "        loss = criterion(outputs, labels) / ACCUMULATION_STEPS  # Scale loss\n",
        "        loss.backward()  # Accumulate gradients\n",
        "\n",
        "        # Update weights every `accumulation_steps` batches\n",
        "        if (i + 1) % ACCUMULATION_STEPS == 0:\n",
        "            optimizer.step()  # Update weights\n",
        "            optimizer.zero_grad()  # Reset gradients\n",
        "\n",
        "        # Compute statistics\n",
        "        running_loss += loss.item() * ACCUMULATION_STEPS\n",
        "        _, predicted = outputs.max(1)\n",
        "        total += labels.size(0)\n",
        "        correct += predicted.eq(labels).sum().item()\n"
      ],
      "metadata": {
        "id": "lBGvimvky_1F"
      },
      "execution_count": null,
      "outputs": []
    },
    {
      "cell_type": "code",
      "source": [
        "\n",
        "    # Print training statistics\n",
        "    train_loss = running_loss / len(train_loader)\n",
        "    train_acc = 100.0 * correct / total\n",
        "    print(f\"Epoch [{epoch+1}/{NUM_EPOCHS}], Train Loss: {train_loss:.4f}, Train Acc: {train_acc:.2f}%\")\n",
        "\n",
        "    # Validation\n",
        "    model.eval()\n",
        "    val_loss = 0.0\n",
        "    correct = 0\n",
        "    total = 0\n",
        "\n",
        "    with torch.no_grad():\n",
        "        for inputs, labels in val_loader:\n",
        "            inputs, labels = inputs.to(device), labels.to(device)\n",
        "            outputs = model(inputs)\n",
        "            loss = criterion(outputs, labels)\n",
        "            val_loss += loss.item()\n",
        "            _, predicted = outputs.max(1)\n",
        "            total += labels.size(0)\n",
        "            correct += predicted.eq(labels).sum().item()\n",
        "\n",
        "    val_loss /= len(val_loader)\n",
        "    val_acc = 100.0 * correct / total\n",
        "    print(f\"Validation Loss: {val_loss:.4f}, Validation Acc: {val_acc:.2f}%\")\n"
      ],
      "metadata": {
        "colab": {
          "base_uri": "https://localhost:8080/"
        },
        "id": "0ic5YslIy2Ux",
        "outputId": "2a24de55-e150-4fea-a48a-f56dd012a040"
      },
      "execution_count": null,
      "outputs": [
        {
          "output_type": "stream",
          "name": "stdout",
          "text": [
            "Epoch [10/10], Train Loss: 0.2220, Train Acc: 92.83%\n",
            "Validation Loss: 0.5803, Validation Acc: 75.31%\n"
          ]
        }
      ]
    },
    {
      "cell_type": "code",
      "source": [
        "\n",
        "# Evaluate on the test set\n",
        "model.eval()\n",
        "y_true = []\n",
        "y_pred = []\n",
        "\n",
        "with torch.no_grad():\n",
        "    for inputs, labels in test_loader:\n",
        "        inputs, labels = inputs.to(device), labels.to(device)\n",
        "        outputs = model(inputs)\n",
        "        _, predicted = outputs.max(1)\n",
        "        y_true.extend(labels.cpu().numpy())\n",
        "        y_pred.extend(predicted.cpu().numpy())\n"
      ],
      "metadata": {
        "id": "nNvL7YYSy0Cc"
      },
      "execution_count": null,
      "outputs": []
    },
    {
      "cell_type": "code",
      "source": [
        "\n",
        "# Classification report\n",
        "class_names = list(dataset.class_to_idx.keys())\n",
        "print(\"Classification Report:\")\n",
        "print(classification_report(y_true, y_pred, target_names=class_names))\n"
      ],
      "metadata": {
        "colab": {
          "base_uri": "https://localhost:8080/"
        },
        "id": "eNM0HV3eytOD",
        "outputId": "bb0e20eb-7997-4826-9f76-aeb1baacc6d7"
      },
      "execution_count": null,
      "outputs": [
        {
          "output_type": "stream",
          "name": "stdout",
          "text": [
            "Classification Report:\n",
            "                 precision    recall  f1-score   support\n",
            "\n",
            "       Bungalow       0.65      0.92      0.77        39\n",
            "      High-rise       0.86      0.86      0.86        14\n",
            "Storey-building       0.90      0.69      0.78        68\n",
            "\n",
            "       accuracy                           0.79       121\n",
            "      macro avg       0.81      0.82      0.80       121\n",
            "   weighted avg       0.82      0.79      0.79       121\n",
            "\n"
          ]
        }
      ]
    },
    {
      "cell_type": "code",
      "source": [
        "\n",
        "# Confusion matrix\n",
        "cm = confusion_matrix(y_true, y_pred)\n",
        "print(\"Confusion Matrix:\")\n",
        "print(cm)\n"
      ],
      "metadata": {
        "colab": {
          "base_uri": "https://localhost:8080/"
        },
        "id": "62YgHqwhyqTy",
        "outputId": "a54491a0-466c-41b5-ba9b-6c89d8e189c9"
      },
      "execution_count": null,
      "outputs": [
        {
          "output_type": "stream",
          "name": "stdout",
          "text": [
            "Confusion Matrix:\n",
            "[[36  0  3]\n",
            " [ 0 12  2]\n",
            " [19  2 47]]\n"
          ]
        }
      ]
    },
    {
      "cell_type": "code",
      "execution_count": null,
      "metadata": {
        "id": "XTbnH6xiREJk",
        "colab": {
          "base_uri": "https://localhost:8080/",
          "height": 564
        },
        "outputId": "118eacef-ad05-4580-e287-1f6e4d961123"
      },
      "outputs": [
        {
          "output_type": "display_data",
          "data": {
            "text/plain": [
              "<Figure size 800x600 with 2 Axes>"
            ],
            "image/png": "[encoded data removed]"
          },
          "metadata": {}
        }
      ],
      "source": [
        "import seaborn as sns\n",
        "\n",
        "# Plot confusion matrix\n",
        "plt.figure(figsize=(8, 6))\n",
        "sns.heatmap(cm, annot=True, fmt='d', cmap='Blues', xticklabels=class_names, yticklabels=class_names)\n",
        "plt.xlabel('Predicted')\n",
        "plt.ylabel('Actual')\n",
        "plt.title('Confusion Matrix')\n",
        "plt.show()"
      ]
    },
    {
      "cell_type": "code",
      "execution_count": null,
      "metadata": {
        "id": "i-9YxTMbREIL"
      },
      "outputs": [],
      "source": []
    }
  ],
  "metadata": {
    "accelerator": "GPU",
    "colab": {
      "gpuType": "T4",
      "provenance": []
    },
    "kernelspec": {
      "display_name": "Python 3",
      "name": "python3"
    },
    "language_info": {
      "codemirror_mode": {
        "name": "ipython",
        "version": 3
      },
      "file_extension": ".py",
      "mimetype": "text/x-python",
      "name": "python",
      "nbconvert_exporter": "python",
      "pygments_lexer": "ipython3",
      "version": "3.8.3"
    }
  },
  "nbformat": 4,
  "nbformat_minor": 0
}